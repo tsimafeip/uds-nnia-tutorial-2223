{
 "cells": [
  {
   "cell_type": "code",
   "execution_count": 3,
   "metadata": {},
   "outputs": [
    {
     "name": "stdout",
     "output_type": "stream",
     "text": [
      "COMPARING SIDES\n",
      "[ 2 -2] [ 2 -2]\n",
      "[10  8] [6 3]\n",
      "[12 12] [6 6]\n",
      "ELEMENT-WISE DIVISION\n",
      "[2. 2.]\n",
      "[5. 8.]\n",
      "[6. 6.]\n"
     ]
    }
   ],
   "source": [
    "import numpy as np\n",
    "\n",
    "A = np.array([[4, 2], [2, 4]])\n",
    "v1 = np.array([1, -1])\n",
    "v2 = np.array([2, 1])\n",
    "v3 = np.array([2, 2])\n",
    "\n",
    "print(\"COMPARING SIDES\")\n",
    "print(A @ v1, 2 * v1)\n",
    "assert (A @ v1 == 2 * v1).all()\n",
    "print(A @ v2, 3 * v2)\n",
    "print(A @ v3, 3 * v3)\n",
    "\n",
    "print(\"ELEMENT-WISE DIVISION\")\n",
    "print(np.divide(A @ v1, v1))\n",
    "print(np.divide(A @ v2, v2))\n",
    "print(np.divide(A @ v3, v3))\n",
    "\n",
    "v4 = 5*v1\n",
    "l4 = 5*l2"
   ]
  },
  {
   "cell_type": "code",
   "execution_count": null,
   "metadata": {},
   "outputs": [],
   "source": [
    "np.linalg.eig(A)"
   ]
  },
  {
   "cell_type": "markdown",
   "metadata": {},
   "source": [
    "$$\n",
    "\n",
    "$$"
   ]
  }
 ],
 "metadata": {
  "interpreter": {
   "hash": "916dbcbb3f70747c44a77c7bcd40155683ae19c65e1c03b4aa3499c5328201f1"
  },
  "kernelspec": {
   "display_name": "Python 3.9.7 64-bit",
   "language": "python",
   "name": "python3"
  },
  "language_info": {
   "codemirror_mode": {
    "name": "ipython",
    "version": 3
   },
   "file_extension": ".py",
   "mimetype": "text/x-python",
   "name": "python",
   "nbconvert_exporter": "python",
   "pygments_lexer": "ipython3",
   "version": "3.9.7"
  },
  "orig_nbformat": 4
 },
 "nbformat": 4,
 "nbformat_minor": 2
}
