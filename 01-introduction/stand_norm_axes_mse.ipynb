{
  "nbformat": 4,
  "nbformat_minor": 0,
  "metadata": {
    "colab": {
      "provenance": []
    },
    "kernelspec": {
      "name": "python3",
      "display_name": "Python 3"
    },
    "language_info": {
      "name": "python"
    }
  },
  "cells": [
    {
      "cell_type": "code",
      "source": [
        "import numpy as np\n",
        "from sklearn.metrics import mean_squared_error\n",
        "\n",
        "y = np.array([1, 2, 3])\n",
        "y_pred = np.array([1, 6, 3])\n",
        "\n",
        "def mse(data, dataNew):\n",
        "    return np.sum((data - dataNew)**2) / len(data)\n",
        "\n",
        "mse(y, y_pred), mean_squared_error(y, y_pred)"
      ],
      "metadata": {
        "colab": {
          "base_uri": "https://localhost:8080/"
        },
        "id": "qVNWile7CUiF",
        "outputId": "2a33fc89-ff05-4b20-9980-a67330d7afa4"
      },
      "execution_count": null,
      "outputs": [
        {
          "output_type": "execute_result",
          "data": {
            "text/plain": [
              "(5.333333333333333, 5.333333333333333)"
            ]
          },
          "metadata": {},
          "execution_count": 105
        }
      ]
    },
    {
      "cell_type": "code",
      "source": [
        "birds_path = \"birds.csv\"\n",
        "with open(birds_path, \"r\") as f:\n",
        "    next(f)\n",
        "    data = np.array([[float(x) for x in line.split(\",\")] for line in f])\n",
        "\n",
        "data = data[:5]\n",
        "data"
      ],
      "metadata": {
        "colab": {
          "base_uri": "https://localhost:8080/"
        },
        "id": "XrezvEW_IIA-",
        "outputId": "244520ba-cb04-4d31-caff-58bea49de920"
      },
      "execution_count": null,
      "outputs": [
        {
          "output_type": "execute_result",
          "data": {
            "text/plain": [
              "array([[1020.,   94.],\n",
              "       [1050.,   93.],\n",
              "       [4050.,  165.],\n",
              "       [1567.,  116.],\n",
              "       [3310.,  165.]])"
            ]
          },
          "metadata": {},
          "execution_count": 107
        }
      ]
    },
    {
      "cell_type": "code",
      "source": [
        "# numpy pieces - working with axes\n",
        "data = np.array(data[:5])\n",
        "mean = np.mean(data)\n",
        "mean_axis_0 = np.mean(data, axis=0)\n",
        "mean_axis_1 = np.mean(data, axis=1)\n",
        "\n",
        "print('Original data', data, data.shape)\n",
        "print('Np mean', mean, mean.shape)\n",
        "print('Np mean, axis=0', mean_axis_0, mean_axis_0.shape)\n",
        "print('Np mean, axis=1', mean_axis_1, mean_axis_1.shape)"
      ],
      "metadata": {
        "colab": {
          "base_uri": "https://localhost:8080/"
        },
        "id": "o-HOSkl1L100",
        "outputId": "6a0d5c13-7cd3-499e-b8c5-5b5d5b400dc0"
      },
      "execution_count": null,
      "outputs": [
        {
          "output_type": "stream",
          "name": "stdout",
          "text": [
            "Original data [[1020.   94.]\n",
            " [1050.   93.]\n",
            " [4050.  165.]\n",
            " [1567.  116.]\n",
            " [3310.  165.]] (5, 2)\n",
            "Np mean 1163.0 ()\n",
            "Np mean, axis=0 [2199.4  126.6] (2,)\n",
            "Np mean, axis=1 [ 557.   571.5 2107.5  841.5 1737.5] (5,)\n"
          ]
        }
      ]
    },
    {
      "cell_type": "code",
      "source": [
        "# Standartization and normalization\n",
        "from sklearn.preprocessing import StandardScaler, normalize as sk_norm\n",
        "\n",
        "def standartize(data):\n",
        "    return (data - np.mean(data, axis=0)) / np.std(data, axis=0)\n",
        "\n",
        "def normalize(data):\n",
        "    return data / np.linalg.norm(data, axis=0)\n",
        "\n",
        "# print(StandardScaler().fit(data).transform(data))\n",
        "# print()\n",
        "# print(standartize(data))\n",
        "# print()\n",
        "print(normalize(data))\n",
        "print()\n",
        "print(sk_norm(data, axis=0))\n",
        "print()\n",
        "# print(np.linalg.norm(normalize(data), axis=0))\n",
        "# print()\n",
        "# print(np.linalg.norm(standartize(data), axis=0))\n",
        "# print()\n",
        "# print(np.std(standartize(data), axis=0), np.mean(standartize(data), axis=0))\n",
        "# print()\n",
        "# print(np.std(normalize(data), axis=0), np.mean(normalize(data), axis=0))"
      ],
      "metadata": {
        "colab": {
          "base_uri": "https://localhost:8080/"
        },
        "id": "ObYR7U-aNvmi",
        "outputId": "230fb423-b0da-4221-d173-c6375ab0a3e8"
      },
      "execution_count": null,
      "outputs": [
        {
          "output_type": "stream",
          "name": "stdout",
          "text": [
            "[[0.18043353 0.32167833]\n",
            " [0.1857404  0.31825622]\n",
            " [0.71642725 0.56464813]\n",
            " [0.27719543 0.39696475]\n",
            " [0.58552449 0.56464813]]\n",
            "\n",
            "[[0.18043353 0.32167833]\n",
            " [0.1857404  0.31825622]\n",
            " [0.71642725 0.56464813]\n",
            " [0.27719543 0.39696475]\n",
            " [0.58552449 0.56464813]]\n",
            "\n"
          ]
        }
      ]
    }
  ]
}