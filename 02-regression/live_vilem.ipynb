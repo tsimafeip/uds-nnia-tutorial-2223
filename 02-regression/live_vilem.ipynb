{
 "cells": [
  {
   "cell_type": "code",
   "execution_count": 9,
   "metadata": {},
   "outputs": [
    {
     "name": "stdout",
     "output_type": "stream",
     "text": [
      "mse1 86.98695321675534\n",
      "mse2 22376.390907276855\n",
      "mse2+ 0.05033948632825884\n",
      "[[1020.35029949   82.32978902]\n",
      " [1050.29330449   83.22857476]\n",
      " [4049.75200384  173.26198061]\n",
      " [1567.51766945   98.75386644]\n",
      " [3310.41813873  151.06972774]]\n",
      "[[1214.24499394   87.86097066]\n",
      " [1213.42449666   87.8350392 ]\n",
      " [3852.50030129  171.24189288]\n",
      " [1835.79593425  107.50482032]\n",
      " [3482.50030129  159.5482023 ]]\n"
     ]
    }
   ],
   "source": [
    "birds_path = \"/home/vilda/nnia-class/2122/NNIA/assignment1/data/birds.csv\"\n",
    "with open(birds_path, \"r\") as f:\n",
    "    next(f)\n",
    "    data = [[float(x) for x in line.split(\",\")] for line in f]\n",
    "\n",
    "from sklearn.decomposition import PCA\n",
    "from sklearn.preprocessing import StandardScaler\n",
    "import numpy as np\n",
    "\n",
    "def mse(data, dataNew):\n",
    "    return np.sum((data - dataNew)**2, axis=1).mean()\n",
    "\n",
    "pca1 = PCA(n_components=1).fit(data)\n",
    "data1r = pca1.inverse_transform(pca1.transform(data))\n",
    "print(\"mse1\", mse(data, data1r))\n",
    "\n",
    "scaler = StandardScaler().fit(data)\n",
    "data2p = scaler.transform(data)\n",
    "pca2 = PCA(n_components=1).fit(data2p)\n",
    "data2rp = pca2.inverse_transform(pca2.transform(data2p))\n",
    "data2r = scaler.inverse_transform(data2rp)\n",
    "\n",
    "print(\"mse2\", mse(data, data2r))\n",
    "print(\"mse2+\", mse(data2p, data2rp))\n",
    "\n",
    "print(data1r[:5])\n",
    "print(data2r[:5])"
   ]
  },
  {
   "cell_type": "markdown",
   "metadata": {},
   "source": [
    "$$\n",
    "(a \\cdot b)^T = b^T \\cdot a^T\n",
    "$$\n",
    "\n",
    "$$\n",
    "y = 5\\cdot x_1^2+x_2^3\n",
    "$$"
   ]
  }
 ],
 "metadata": {
  "kernelspec": {
   "display_name": "Python 3.7.12 ('venv_37')",
   "language": "python",
   "name": "python3"
  },
  "language_info": {
   "codemirror_mode": {
    "name": "ipython",
    "version": 3
   },
   "file_extension": ".py",
   "mimetype": "text/x-python",
   "name": "python",
   "nbconvert_exporter": "python",
   "pygments_lexer": "ipython3",
   "version": "3.7.12"
  },
  "orig_nbformat": 4,
  "vscode": {
   "interpreter": {
    "hash": "d234eaca08f81c86c57ba3fab09f675b7f794e918ca74eabd6cec66c7f752238"
   }
  }
 },
 "nbformat": 4,
 "nbformat_minor": 2
}
