{
 "cells": [
  {
   "cell_type": "code",
   "execution_count": 2,
   "id": "6b87ddb0-7d7a-4ba1-8736-ad6301d40550",
   "metadata": {},
   "outputs": [],
   "source": [
    "from sympy import *\n",
    "import numpy as np\n",
    "from sympy.tensor.array import derive_by_array\n",
    "import torch"
   ]
  },
  {
   "cell_type": "markdown",
   "id": "b93250d5-5e0f-4d50-8ba3-fd231df02997",
   "metadata": {},
   "source": [
    "## What if I don't want to do things completely by hand?"
   ]
  },
  {
   "cell_type": "code",
   "execution_count": 3,
   "id": "1c38c0da-240f-46ff-aefa-afbf73324735",
   "metadata": {},
   "outputs": [
    {
     "data": {
      "image/png": "[encoded data removed]",
      "text/latex": [
       "$\\displaystyle x y + \\sin{\\left(\\pi x \\right)}$"
      ],
      "text/plain": [
       "x⋅y + sin(π⋅x)"
      ]
     },
     "execution_count": 3,
     "metadata": {},
     "output_type": "execute_result"
    }
   ],
   "source": [
    "init_printing()\n",
    "x, y = symbols(\"x,y\")\n",
    "def my_funct(var1, var2):\n",
    "    return var1 * var2 + sin(pi * var1)\n",
    "my_funct(x,y)"
   ]
  },
  {
   "cell_type": "code",
   "execution_count": 4,
   "id": "98d14078-0e3a-4fd3-bebf-deee749b8783",
   "metadata": {},
   "outputs": [
    {
     "data": {
      "image/png": "[encoded data removed]",
      "text/latex": [
       "$\\displaystyle y + \\pi \\cos{\\left(\\pi x \\right)}$"
      ],
      "text/plain": [
       "y + π⋅cos(π⋅x)"
      ]
     },
     "execution_count": 4,
     "metadata": {},
     "output_type": "execute_result"
    }
   ],
   "source": [
    "diff(my_funct(x,y), x)"
   ]
  },
  {
   "cell_type": "code",
   "execution_count": 5,
   "id": "14f2d432-b862-4f57-a3ef-64b6afae7655",
   "metadata": {},
   "outputs": [
    {
     "data": {
      "image/png": "[encoded data removed]",
      "text/latex": [
       "$\\displaystyle x$"
      ],
      "text/plain": [
       "x"
      ]
     },
     "execution_count": 5,
     "metadata": {},
     "output_type": "execute_result"
    }
   ],
   "source": [
    "diff(my_funct(x,y), y)"
   ]
  },
  {
   "cell_type": "markdown",
   "id": "1a988fa3-5170-49f1-8b6c-439c47b8af66",
   "metadata": {},
   "source": [
    "## Evaluate these functions numerically"
   ]
  },
  {
   "cell_type": "code",
   "execution_count": 6,
   "id": "789b61ee-b9fe-4429-a292-c4fbc56a8b41",
   "metadata": {},
   "outputs": [],
   "source": [
    "numeric_diff_x = lambdify((x,y), diff(my_funct(x,y), x), 'numpy')\n",
    "numeric_diff_y = lambdify((x,y), diff(my_funct(x,y), y), 'numpy')"
   ]
  },
  {
   "cell_type": "code",
   "execution_count": 7,
   "id": "eccd5848-9f2b-45c4-b3d8-ca0e9bc4850d",
   "metadata": {},
   "outputs": [
    {
     "data": {
      "image/png": "[encoded data removed]",
      "text/latex": [
       "$\\displaystyle 6.14159265358979$"
      ],
      "text/plain": [
       "6.141592653589793"
      ]
     },
     "execution_count": 7,
     "metadata": {},
     "output_type": "execute_result"
    }
   ],
   "source": [
    "numeric_diff_x(2,3)"
   ]
  },
  {
   "cell_type": "code",
   "execution_count": 8,
   "id": "89ddb62d-e943-4a0c-b290-eb04043affb4",
   "metadata": {},
   "outputs": [
    {
     "data": {
      "image/png": "[encoded data removed]",
      "text/latex": [
       "$\\displaystyle 2$"
      ],
      "text/plain": [
       "2"
      ]
     },
     "execution_count": 8,
     "metadata": {},
     "output_type": "execute_result"
    }
   ],
   "source": [
    "numeric_diff_y(2,3)"
   ]
  },
  {
   "cell_type": "markdown",
   "id": "d102294c-6d98-47e1-a50f-5ed21bcd50ef",
   "metadata": {},
   "source": [
    "## Autograd"
   ]
  },
  {
   "cell_type": "code",
   "execution_count": 9,
   "id": "9ab02751-0ab1-44fb-a787-bf8771d97928",
   "metadata": {},
   "outputs": [],
   "source": [
    "x_1 = torch.tensor(2.0, requires_grad=True)\n",
    "y_1 = torch.tensor(3.0, requires_grad=True)\n",
    "out = x_1 * y_1 + torch.sin(np.pi * x_1)\n",
    "out.backward()"
   ]
  },
  {
   "cell_type": "code",
   "execution_count": 10,
   "id": "6bff73b6-b619-4d6a-b8b3-c2196abf5766",
   "metadata": {},
   "outputs": [
    {
     "data": {
      "text/plain": [
       "tensor(6.1416)"
      ]
     },
     "execution_count": 10,
     "metadata": {},
     "output_type": "execute_result"
    }
   ],
   "source": [
    "x_1.grad"
   ]
  },
  {
   "cell_type": "code",
   "execution_count": 11,
   "id": "4eaabf66-2082-44dc-a660-09dd40ac84f8",
   "metadata": {},
   "outputs": [
    {
     "data": {
      "text/plain": [
       "tensor(2.)"
      ]
     },
     "execution_count": 11,
     "metadata": {},
     "output_type": "execute_result"
    }
   ],
   "source": [
    "y_1.grad"
   ]
  },
  {
   "cell_type": "markdown",
   "id": "8284babe-9ae8-47d9-83e6-b9fc89829db6",
   "metadata": {},
   "source": [
    "## Example from Assignment 3"
   ]
  },
  {
   "cell_type": "code",
   "execution_count": 12,
   "id": "30d4d597-f377-4554-9580-cc6fb8f724c5",
   "metadata": {},
   "outputs": [],
   "source": [
    "start_dim = np.random.randint(low=2, high=4+1)\n",
    "i = np.random.rand(start_dim)\n",
    "j = np.random.rand(start_dim)\n",
    "k = np.random.rand(start_dim)"
   ]
  },
  {
   "cell_type": "code",
   "execution_count": 13,
   "id": "aa9c55d0-5eb7-46bf-b850-7096a549645d",
   "metadata": {},
   "outputs": [],
   "source": [
    "def solution_manual_autograd(a, b, y):\n",
    "    agrad = 2*(2*a**2+a*b+b-y)*(4*a+b)\n",
    "    bgrad = 2*(2*a**2+a*b+b-y)*(a+1)\n",
    "    ygrad = 2*(2*a**2+a*b+b-y)*(-1)\n",
    "    return agrad, bgrad, ygrad"
   ]
  },
  {
   "cell_type": "code",
   "execution_count": 14,
   "id": "2ee724dc-36e2-45b8-932f-9a2118c30e26",
   "metadata": {},
   "outputs": [],
   "source": [
    "def solution_torch_autograd(a, b, y):\n",
    "    a = torch.tensor(a, requires_grad=True)\n",
    "    b = torch.tensor(b, requires_grad=True)\n",
    "    y = torch.tensor(y, requires_grad=True)\n",
    "    l = ((2*a**2+a*b+b-y)**2).sum()\n",
    "    l.backward()\n",
    "    return a.grad, b.grad, y.grad"
   ]
  },
  {
   "cell_type": "markdown",
   "id": "b209f0af-7ebc-44eb-a108-acbe20a7e16e",
   "metadata": {},
   "source": [
    "### Symbolically"
   ]
  },
  {
   "cell_type": "code",
   "execution_count": 15,
   "id": "37543d18-30bf-4d4f-b8a8-e3b1155db1bb",
   "metadata": {},
   "outputs": [],
   "source": [
    "a, b, y = symbols(\"a, b, y\")"
   ]
  },
  {
   "cell_type": "code",
   "execution_count": 16,
   "id": "e7faea7f-db7f-464b-8850-6c50a0483af3",
   "metadata": {},
   "outputs": [
    {
     "data": {
      "image/png": "[encoded data removed]",
      "text/latex": [
       "$\\displaystyle 2 a^{2} + a b + b$"
      ],
      "text/plain": [
       "   2          \n",
       "2⋅a  + a⋅b + b"
      ]
     },
     "execution_count": 16,
     "metadata": {},
     "output_type": "execute_result"
    }
   ],
   "source": [
    "y_hat = 2 * a ** 2 + a * b + b\n",
    "y_hat"
   ]
  },
  {
   "cell_type": "code",
   "execution_count": 17,
   "id": "a246c785-2a69-4828-ac8f-9a9fb00f781a",
   "metadata": {},
   "outputs": [
    {
     "data": {
      "image/png": "[encoded data removed]",
      "text/latex": [
       "$\\displaystyle \\left(2 a^{2} + a b + b - y\\right)^{2}$"
      ],
      "text/plain": [
       "                    2\n",
       "⎛   2              ⎞ \n",
       "⎝2⋅a  + a⋅b + b - y⎠ "
      ]
     },
     "execution_count": 17,
     "metadata": {},
     "output_type": "execute_result"
    }
   ],
   "source": [
    "loss = (y_hat - y) ** 2\n",
    "loss"
   ]
  },
  {
   "cell_type": "markdown",
   "id": "0a234d26-efb8-40d4-bdbc-065b42d4eaf5",
   "metadata": {},
   "source": [
    "### Q: What happened to the $\\sum$ when taking the derivative?\n",
    "\n",
    "$L = \\sum_{i}^{n} (\\hat{y}_{i} - y_{i})^2$\n",
    "\n",
    "We're taking the *partial* derivative with respect to *one* variable at a time.  \n",
    "For example, w.r.t $y_1$:  \n",
    "\n",
    "\\begin{align*}\n",
    "\\frac{\\partial L}{\\partial y_{1}} &= \\frac{\\partial}{\\partial y_{1}} \\sum_{i}^{n} (\\hat{y}_{i} - y_{i})^2 \\\\\n",
    "&= \\sum_{i}^{n} \\frac{\\partial}{\\partial y_{1}}(\\hat{y}_{i} - y_{i})^2 \\\\\n",
    "&= \\frac{\\partial}{\\partial y_{1}}(\\hat{y}_{1} - y_{1})^2 + \\frac{\\partial}{\\partial y_{1}}(\\hat{y}_{2} - y_{2})^2 + \\text{ ... } +\\frac{\\partial}{\\partial y_{1}}(\\hat{y}_{n} - y_{n})^2 \\\\\n",
    "&= \\frac{\\partial}{\\partial y_{1}}(\\hat{y}_{1} - y_{1})^2 + 0 + \\text{ ... } + 0\n",
    "\\end{align*}\n",
    "\n",
    "So, for the partial derivative w.r.t a particular variable, although the sum is there, all the other terms are treated as a derivative of a constant ($= 0$) as they concern other variables and not the one we're interested in.\n"
   ]
  },
  {
   "cell_type": "markdown",
   "id": "c8ab71e8-463b-44f3-8da9-bcdf29fcd05d",
   "metadata": {},
   "source": [
    "### The derivatives below are w.r.t one $y, a$, and $b$"
   ]
  },
  {
   "cell_type": "code",
   "execution_count": 18,
   "id": "324b038e-31f4-4057-8326-cfcfb398acb7",
   "metadata": {},
   "outputs": [
    {
     "data": {
      "image/png": "[encoded data removed]",
      "text/latex": [
       "$\\displaystyle - 4 a^{2} - 2 a b - 2 b + 2 y$"
      ],
      "text/plain": [
       "     2                    \n",
       "- 4⋅a  - 2⋅a⋅b - 2⋅b + 2⋅y"
      ]
     },
     "execution_count": 18,
     "metadata": {},
     "output_type": "execute_result"
    }
   ],
   "source": [
    "diff(loss, y)"
   ]
  },
  {
   "cell_type": "code",
   "execution_count": 19,
   "id": "18d56406-f4ce-43aa-9ba7-42ccef142087",
   "metadata": {},
   "outputs": [
    {
     "data": {
      "image/png": "[encoded data removed]",
      "text/latex": [
       "$\\displaystyle \\left(8 a + 2 b\\right) \\left(2 a^{2} + a b + b - y\\right)$"
      ],
      "text/plain": [
       "            ⎛   2              ⎞\n",
       "(8⋅a + 2⋅b)⋅⎝2⋅a  + a⋅b + b - y⎠"
      ]
     },
     "execution_count": 19,
     "metadata": {},
     "output_type": "execute_result"
    }
   ],
   "source": [
    "diff(loss, a)"
   ]
  },
  {
   "cell_type": "code",
   "execution_count": 20,
   "id": "a0360eec-1b1e-48ba-ab18-c4457295086e",
   "metadata": {},
   "outputs": [
    {
     "data": {
      "image/png": "[encoded data removed]",
      "text/latex": [
       "$\\displaystyle \\left(2 a + 2\\right) \\left(2 a^{2} + a b + b - y\\right)$"
      ],
      "text/plain": [
       "          ⎛   2              ⎞\n",
       "(2⋅a + 2)⋅⎝2⋅a  + a⋅b + b - y⎠"
      ]
     },
     "execution_count": 20,
     "metadata": {},
     "output_type": "execute_result"
    }
   ],
   "source": [
    "diff(loss, b)"
   ]
  },
  {
   "cell_type": "markdown",
   "id": "4e796c0b-89c9-461b-aba5-dc86c5e24e07",
   "metadata": {},
   "source": [
    "### Need to evaluate the equations numerically"
   ]
  },
  {
   "cell_type": "code",
   "execution_count": 21,
   "id": "23575222-d479-4010-9744-b182b1aef495",
   "metadata": {},
   "outputs": [],
   "source": [
    "numeric_ygrad = lambdify((a, b, y), diff(loss, y), 'numpy')\n",
    "numeric_bgrad = lambdify((a, b, y), diff(loss, b), 'numpy')\n",
    "numeric_agrad = lambdify((a, b, y), diff(loss, a), 'numpy')"
   ]
  },
  {
   "cell_type": "code",
   "execution_count": 22,
   "id": "6efe8dec-954b-481e-900f-ff8b62316642",
   "metadata": {},
   "outputs": [],
   "source": [
    "sym_ygrad, sym_bgrad, sym_agrad = numeric_ygrad(i,j,k), numeric_bgrad(i,j,k), numeric_agrad(i,j,k)"
   ]
  },
  {
   "cell_type": "code",
   "execution_count": 23,
   "id": "057fb472-32e3-4e42-8554-bf119ca15e2d",
   "metadata": {},
   "outputs": [
    {
     "data": {
      "text/plain": [
       "array([-2.00403709, -2.5494534 ])"
      ]
     },
     "execution_count": 23,
     "metadata": {},
     "output_type": "execute_result"
    }
   ],
   "source": [
    "# partial derivative w.r.t y_1, where y_1 == i[0]; w.r.t y_2, where y_2 == i[1] etc.\n",
    "sym_ygrad"
   ]
  },
  {
   "cell_type": "code",
   "execution_count": 24,
   "id": "db8efb38-06ca-4a24-af19-dd5f016f5f35",
   "metadata": {},
   "outputs": [],
   "source": [
    "man_agrad, man_bgrad, man_ygrad = solution_manual_autograd(i,j,k)"
   ]
  },
  {
   "cell_type": "code",
   "execution_count": 25,
   "id": "4d88edcc-5f33-4a9c-9748-246702ac8cef",
   "metadata": {},
   "outputs": [
    {
     "name": "stdout",
     "output_type": "stream",
     "text": [
      "All True\n"
     ]
    }
   ],
   "source": [
    "assert np.allclose(sym_agrad, man_agrad)\n",
    "assert np.allclose(sym_bgrad, man_bgrad)\n",
    "assert np.allclose(sym_ygrad, man_ygrad)\n",
    "print(f\"All True\")"
   ]
  },
  {
   "cell_type": "code",
   "execution_count": 26,
   "id": "e93c57e1-84fe-4e21-bd02-5091168d0c0b",
   "metadata": {},
   "outputs": [],
   "source": [
    "torch_agrad, torch_bgrad, torch_ygrad = solution_torch_autograd(i,j,k)"
   ]
  },
  {
   "cell_type": "code",
   "execution_count": 27,
   "id": "fba26023-401f-4358-aed7-ebba2e41e74c",
   "metadata": {},
   "outputs": [
    {
     "name": "stdout",
     "output_type": "stream",
     "text": [
      "All True\n"
     ]
    }
   ],
   "source": [
    "assert np.allclose(sym_agrad, torch_agrad)\n",
    "assert np.allclose(sym_bgrad, torch_bgrad)\n",
    "assert np.allclose(sym_ygrad, torch_ygrad)\n",
    "print(f\"All True\")"
   ]
  }
 ],
 "metadata": {
  "kernelspec": {
   "display_name": "Python 3",
   "language": "python",
   "name": "python3"
  },
  "language_info": {
   "codemirror_mode": {
    "name": "ipython",
    "version": 3
   },
   "file_extension": ".py",
   "mimetype": "text/x-python",
   "name": "python",
   "nbconvert_exporter": "python",
   "pygments_lexer": "ipython3",
   "version": "3.7.10"
  }
 },
 "nbformat": 4,
 "nbformat_minor": 5
}
